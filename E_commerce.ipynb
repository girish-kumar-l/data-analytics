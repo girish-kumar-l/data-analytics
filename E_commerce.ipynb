{
  "nbformat": 4,
  "nbformat_minor": 0,
  "metadata": {
    "colab": {
      "provenance": [],
      "authorship_tag": "ABX9TyN0DtBeVJR0qvg0oEbm7RmG",
      "include_colab_link": true
    },
    "kernelspec": {
      "name": "python3",
      "display_name": "Python 3"
    },
    "language_info": {
      "name": "python"
    }
  },
  "cells": [
    {
      "cell_type": "markdown",
      "metadata": {
        "id": "view-in-github",
        "colab_type": "text"
      },
      "source": [
        "<a href=\"https://colab.research.google.com/github/girish-kumar-l/data-analytics/blob/main/E_commerce.ipynb\" target=\"_parent\"><img src=\"https://colab.research.google.com/assets/colab-badge.svg\" alt=\"Open In Colab\"/></a>"
      ]
    },
    {
      "cell_type": "code",
      "execution_count": 6,
      "metadata": {
        "id": "T8iXap8101LP"
      },
      "outputs": [],
      "source": [
        "#libraries\n",
        "import pandas as pd\n",
        "import matplotlib.pyplot as plt\n",
        "import seaborn as sns\n",
        "import numpy as np\n",
        "%matplotlib inline\n",
        "\n",
        "pd.options.mode.chained_assignment = None"
      ]
    },
    {
      "cell_type": "code",
      "source": [
        "plt.rcParams.update(\n",
        "{\"font.size\": 10, \"figure.facecolor\": \"w\", \"axes.facecolor\": \"w\", \"axes.spines.right\": False, \"axes.spines.bottom\": False, \"xtick.top\": False,\n",
        "\"xtick.bottom\": False,\n",
        "\"ytick.right\": False,\n",
        "\"ytick.left\": False, }\n",
        ")"
      ],
      "metadata": {
        "id": "KVeUnre-2Hsm"
      },
      "execution_count": 9,
      "outputs": []
    },
    {
      "cell_type": "code",
      "source": [
        "import chardet\n",
        "with open(\"data.csv\", \"rb\") as f:\n",
        "result = chardet.detect(f.read()) file_encoding = result[\"encoding\"]\n",
        "# read CSV file with detected encoding\n",
        "df = pd.read_csv(\"data.csv\", encoding=file_encoding)"
      ],
      "metadata": {
        "colab": {
          "base_uri": "https://localhost:8080/",
          "height": 131
        },
        "id": "vNOUrZVL24HJ",
        "outputId": "5fa39822-a98a-4f2f-dd43-f36e4ff4912b"
      },
      "execution_count": 10,
      "outputs": [
        {
          "output_type": "error",
          "ename": "IndentationError",
          "evalue": "ignored",
          "traceback": [
            "\u001b[0;36m  File \u001b[0;32m\"<ipython-input-10-943e7e5b3bb2>\"\u001b[0;36m, line \u001b[0;32m3\u001b[0m\n\u001b[0;31m    result = chardet.detect(f.read()) file_encoding = result[\"encoding\"]\u001b[0m\n\u001b[0m    ^\u001b[0m\n\u001b[0;31mIndentationError\u001b[0m\u001b[0;31m:\u001b[0m expected an indented block after 'with' statement on line 2\n"
          ]
        }
      ]
    }
  ]
}